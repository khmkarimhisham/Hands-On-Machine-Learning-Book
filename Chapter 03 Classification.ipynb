{
  "nbformat": 4,
  "nbformat_minor": 0,
  "metadata": {
    "kernelspec": {
      "display_name": "Python 3",
      "language": "python",
      "name": "python3"
    },
    "language_info": {
      "codemirror_mode": {
        "name": "ipython",
        "version": 3
      },
      "file_extension": ".py",
      "mimetype": "text/x-python",
      "name": "python",
      "nbconvert_exporter": "python",
      "pygments_lexer": "ipython3",
      "version": "3.8.5"
    },
    "colab": {
      "name": "Chapter 03 Classification.ipynb",
      "provenance": [],
      "collapsed_sections": []
    }
  },
  "cells": [
    {
      "cell_type": "markdown",
      "metadata": {
        "id": "jVkQZOkwPiLq"
      },
      "source": [
        "# CHAPTER 3 - Classification"
      ]
    },
    {
      "cell_type": "markdown",
      "metadata": {
        "id": "x2uXOGJ1PiLr"
      },
      "source": [
        "## MNIST\n",
        "\n",
        "In this chapter we will be using the MNIST dataset, which is a set of 70,000 small images of digits handwritten by high school students and employees of the US Census Bureau. Each image is labeled with the digit it represents.\n",
        "\n",
        "Scikit-Learn provides many helper functions to download popular datasets. MNIST is one of them. The following code fetches the MNIST dataset:"
      ]
    },
    {
      "cell_type": "code",
      "metadata": {
        "id": "7kyoSsRRPiLt",
        "outputId": "9fc2b47f-b029-49c4-f8d2-6980095841df",
        "colab": {
          "base_uri": "https://localhost:8080/"
        }
      },
      "source": [
        "from sklearn.datasets import fetch_openml\n",
        "\n",
        "mnist = fetch_openml('mnist_784', version=1)\n",
        "mnist.keys()"
      ],
      "execution_count": 1,
      "outputs": [
        {
          "output_type": "execute_result",
          "data": {
            "text/plain": [
              "dict_keys(['data', 'target', 'frame', 'feature_names', 'target_names', 'DESCR', 'details', 'categories', 'url'])"
            ]
          },
          "metadata": {
            "tags": []
          },
          "execution_count": 1
        }
      ]
    },
    {
      "cell_type": "markdown",
      "metadata": {
        "id": "MfQY43UCPiL1"
      },
      "source": [
        "Datasets loaded by Scikit-Learn generally have a similar dictionary structure, including the following:\n",
        "- A DESCR key describing the dataset\n",
        "- A data key containing an array with one row per instance and one column per feature\n",
        "- A target key containing an array with the labels"
      ]
    },
    {
      "cell_type": "code",
      "metadata": {
        "id": "H-XxEicQPiL2",
        "outputId": "e12bf3af-76ea-4483-a11c-9a81cc01854a",
        "colab": {
          "base_uri": "https://localhost:8080/"
        }
      },
      "source": [
        "X, y = mnist[\"data\"], mnist[\"target\"]\n",
        "\n",
        "X.shape"
      ],
      "execution_count": 2,
      "outputs": [
        {
          "output_type": "execute_result",
          "data": {
            "text/plain": [
              "(70000, 784)"
            ]
          },
          "metadata": {
            "tags": []
          },
          "execution_count": 2
        }
      ]
    },
    {
      "cell_type": "code",
      "metadata": {
        "id": "73QOuK53PiL8",
        "outputId": "a4c9a332-7237-432a-d624-d749f9306973",
        "colab": {
          "base_uri": "https://localhost:8080/"
        }
      },
      "source": [
        "y.shape"
      ],
      "execution_count": 3,
      "outputs": [
        {
          "output_type": "execute_result",
          "data": {
            "text/plain": [
              "(70000,)"
            ]
          },
          "metadata": {
            "tags": []
          },
          "execution_count": 3
        }
      ]
    },
    {
      "cell_type": "markdown",
      "metadata": {
        "id": "azlwQFuIPiME"
      },
      "source": [
        "There are 70,000 images, and each image has 784 features. This is because each image\n",
        "is 28 × 28 pixels, and each feature simply represents one pixel’s intensity, from 0\n",
        "(white) to 255 (black)."
      ]
    },
    {
      "cell_type": "markdown",
      "metadata": {
        "id": "6g2vsWQEPiMG"
      },
      "source": [
        "Let’s take a peek at one digit from the dataset. All you need to\n",
        "do is grab an instance’s feature vector, reshape it to a 28 × 28 array, and display it\n",
        "using Matplotlib’s imshow() function:"
      ]
    },
    {
      "cell_type": "code",
      "metadata": {
        "id": "I5NDvyqIPiMH",
        "outputId": "791988ba-2a90-4388-c401-97c7e55328a7",
        "colab": {
          "base_uri": "https://localhost:8080/",
          "height": 248
        }
      },
      "source": [
        "import matplotlib as mpl\n",
        "import matplotlib.pyplot as plt\n",
        "\n",
        "some_digit = X[0]\n",
        "some_digit_image = some_digit.reshape(28, 28)\n",
        "plt.imshow(some_digit_image, cmap=\"binary\")\n",
        "plt.axis(\"off\")\n",
        "plt.show()"
      ],
      "execution_count": 4,
      "outputs": [
        {
          "output_type": "display_data",
          "data": {
            "image/png": "[encoded data removed]",
            "text/plain": [
              "<Figure size 432x288 with 1 Axes>"
            ]
          },
          "metadata": {
            "tags": [],
            "needs_background": "light"
          }
        }
      ]
    },
    {
      "cell_type": "markdown",
      "metadata": {
        "id": "J3SztLItPiMM"
      },
      "source": [
        "This looks like a 5, and indeed that’s what the label tells us:"
      ]
    },
    {
      "cell_type": "code",
      "metadata": {
        "id": "MHYLYPZ4PiMN",
        "outputId": "8b391783-6b29-4b4d-d088-847049fc662d",
        "colab": {
          "base_uri": "https://localhost:8080/",
          "height": 36
        }
      },
      "source": [
        "y[0]"
      ],
      "execution_count": 5,
      "outputs": [
        {
          "output_type": "execute_result",
          "data": {
            "application/vnd.google.colaboratory.intrinsic+json": {
              "type": "string"
            },
            "text/plain": [
              "'5'"
            ]
          },
          "metadata": {
            "tags": []
          },
          "execution_count": 5
        }
      ]
    },
    {
      "cell_type": "markdown",
      "metadata": {
        "id": "rvTCKyABPiMU"
      },
      "source": [
        "This looks like a 5, and indeed that’s what the label tells us:"
      ]
    },
    {
      "cell_type": "code",
      "metadata": {
        "id": "6SVe-n9BPiMV"
      },
      "source": [
        "import numpy as np\n",
        "\n",
        "y = y.astype(np.uint8)"
      ],
      "execution_count": 6,
      "outputs": []
    },
    {
      "cell_type": "markdown",
      "metadata": {
        "id": "ALBeNJsYPiMY"
      },
      "source": [
        "But wait! You should always create a test set and set it aside before inspecting the data\n",
        "closely. The MNIST dataset is actually already split into a training set (the first 60,000\n",
        "images) and a test set (the last 10,000 images):"
      ]
    },
    {
      "cell_type": "code",
      "metadata": {
        "id": "t5QjlcahPiMZ"
      },
      "source": [
        "X_train, X_test, y_train, y_test = X[:60000], X[60000:], y[:60000], y[60000:]"
      ],
      "execution_count": 7,
      "outputs": []
    },
    {
      "cell_type": "markdown",
      "metadata": {
        "id": "cSbkc9RHPiMc"
      },
      "source": [
        "The training set is already shuffled for us, which is good because this guarantees that\n",
        "all cross-validation folds will be similar (you don’t want one fold to be missing some\n",
        "digits). Moreover, some learning algorithms are sensitive to the order of the training\n",
        "instances, and they perform poorly if they get many similar instances in a row. Shuffling the dataset ensures that this won’t happen. But Shuffling may be a bad idea in some contexts—for example, if you are working on time series data (such as stock market prices or weather conditions). We will explore this in the next chapters."
      ]
    },
    {
      "cell_type": "markdown",
      "metadata": {
        "id": "P_15Og7ZPiMc"
      },
      "source": [
        "## Training a Binary Classifier"
      ]
    },
    {
      "cell_type": "markdown",
      "metadata": {
        "id": "mugHXpS8PiMd"
      },
      "source": [
        "Let’s simplify the problem for now and only try to identify one digit—for example,\n",
        "the number 5. This “5-detector” will be an example of a binary classifier, capable of\n",
        "distinguishing between just two classes, 5 and not-5. Let’s create the target vectors for\n",
        "this classification task:"
      ]
    },
    {
      "cell_type": "code",
      "metadata": {
        "id": "FXFRn3_VPiMe"
      },
      "source": [
        "y_train_5 = (y_train == 5) # True for all 5s, False for all other digits\n",
        "y_test_5 = (y_test == 5)"
      ],
      "execution_count": 8,
      "outputs": []
    },
    {
      "cell_type": "markdown",
      "metadata": {
        "id": "71sesuqoPiMh"
      },
      "source": [
        "Now let’s pick a classifier and train it. A good place to start is with a Stochastic Gradient Descent (SGD) classifier, using Scikit-Learn’s SGDClassifier class."
      ]
    },
    {
      "cell_type": "code",
      "metadata": {
        "id": "_F5oApepPiMi",
        "outputId": "27c2bf06-b886-4595-9fda-e33187bd6817",
        "colab": {
          "base_uri": "https://localhost:8080/"
        }
      },
      "source": [
        "from sklearn.linear_model import SGDClassifier\n",
        "\n",
        "sgd_clf = SGDClassifier(random_state=42)\n",
        "sgd_clf.fit(X_train, y_train_5)"
      ],
      "execution_count": 9,
      "outputs": [
        {
          "output_type": "execute_result",
          "data": {
            "text/plain": [
              "SGDClassifier(alpha=0.0001, average=False, class_weight=None,\n",
              "              early_stopping=False, epsilon=0.1, eta0=0.0, fit_intercept=True,\n",
              "              l1_ratio=0.15, learning_rate='optimal', loss='hinge',\n",
              "              max_iter=1000, n_iter_no_change=5, n_jobs=None, penalty='l2',\n",
              "              power_t=0.5, random_state=42, shuffle=True, tol=0.001,\n",
              "              validation_fraction=0.1, verbose=0, warm_start=False)"
            ]
          },
          "metadata": {
            "tags": []
          },
          "execution_count": 9
        }
      ]
    },
    {
      "cell_type": "markdown",
      "metadata": {
        "id": "x4Og-cuGPiMo"
      },
      "source": [
        "Now we can use it to detect images of the number 5:"
      ]
    },
    {
      "cell_type": "code",
      "metadata": {
        "id": "P-SrGxSDPiMq",
        "outputId": "c5f613d3-0f3b-4927-ced0-4c38e1a486d5",
        "colab": {
          "base_uri": "https://localhost:8080/"
        }
      },
      "source": [
        "sgd_clf.predict([some_digit])"
      ],
      "execution_count": 10,
      "outputs": [
        {
          "output_type": "execute_result",
          "data": {
            "text/plain": [
              "array([ True])"
            ]
          },
          "metadata": {
            "tags": []
          },
          "execution_count": 10
        }
      ]
    },
    {
      "cell_type": "markdown",
      "metadata": {
        "id": "u0fjCjfdPiMu"
      },
      "source": [
        "The classifier guesses that this image represents a 5 ( True ). Looks like it guessed right\n",
        "in this particular case! Now, let’s evaluate this model’s performance."
      ]
    },
    {
      "cell_type": "markdown",
      "metadata": {
        "id": "X45K6EA5PiMu"
      },
      "source": [
        "## Performance Measures\n",
        "\n",
        "Evaluating a classifier is often significantly trickier than evaluating a regressor, so we\n",
        "will spend a large part of this chapter on this topic. \n",
        "\n",
        "### Measuring Accuracy Using Cross-Validation\n",
        "\n",
        "A good way to evaluate a model is to use cross-validation, just as we did in Chapter 2."
      ]
    },
    {
      "cell_type": "code",
      "metadata": {
        "id": "NiwQAeRXPiMv",
        "outputId": "92416d35-c54c-4b3a-e7ae-c1a1926926f8",
        "colab": {
          "base_uri": "https://localhost:8080/"
        }
      },
      "source": [
        "from sklearn.model_selection import cross_val_score\n",
        "\n",
        "cross_val_score(sgd_clf, X_train, y_train_5, cv=3, scoring=\"accuracy\")"
      ],
      "execution_count": 11,
      "outputs": [
        {
          "output_type": "execute_result",
          "data": {
            "text/plain": [
              "array([0.95035, 0.96035, 0.9604 ])"
            ]
          },
          "metadata": {
            "tags": []
          },
          "execution_count": 11
        }
      ]
    },
    {
      "cell_type": "markdown",
      "metadata": {
        "id": "GA-stTuuPiM0"
      },
      "source": [
        "Wow! Above 95% accuracy (ratio of correct predictions) on all cross-validation folds?\n",
        "This looks amazing, doesn’t it? Well, before you get too excited, only about 10% of the\n",
        "images are 5s, so if you always guess that an image is not a 5, you will be right about\n",
        "90% of the time. \n",
        "\n",
        "This demonstrates why accuracy is generally not the preferred performance measure\n",
        "for classifiers, especially when you are dealing with skewed datasets (i.e., when some\n",
        "classes are much more frequent than others)."
      ]
    },
    {
      "cell_type": "markdown",
      "metadata": {
        "id": "BajpBXEsPiM1"
      },
      "source": [
        "### Confusion Matrix\n",
        "\n",
        "A much better way to evaluate the performance of a classifier is to look at the confu‐\n",
        "sion matrix. The general idea is to count the number of times instances of class A are\n",
        "classified as class B. For example, to know the number of times the classifier confused\n",
        "images of 5s with 3s, you would look in the fifth row and third column of the confusion matrix. \n",
        "\n",
        "To compute the confusion matrix, you first need to have a set of predictions so that\n",
        "they can be compared to the actual targets."
      ]
    },
    {
      "cell_type": "code",
      "metadata": {
        "id": "hNYmLtqLPiM2"
      },
      "source": [
        "from sklearn.model_selection import cross_val_predict\n",
        "\n",
        "y_train_pred = cross_val_predict(sgd_clf, X_train, y_train_5, cv=3)"
      ],
      "execution_count": 12,
      "outputs": []
    },
    {
      "cell_type": "markdown",
      "metadata": {
        "id": "2Hf8e2FhMnbU"
      },
      "source": [
        "Now you are ready to get the confusion matrix using the confusion_matrix() function. Just pass it the target classes ( y_train_5 ) and the predicted classes ( y_train_pred ):"
      ]
    },
    {
      "cell_type": "code",
      "metadata": {
        "id": "RsDZwzLWMspW",
        "outputId": "1523c55f-aa73-4f4c-dcd4-f0ed41ad976d",
        "colab": {
          "base_uri": "https://localhost:8080/"
        }
      },
      "source": [
        "from sklearn.metrics import confusion_matrix\n",
        "\n",
        "confusion_matrix(y_train_5, y_train_pred)"
      ],
      "execution_count": 13,
      "outputs": [
        {
          "output_type": "execute_result",
          "data": {
            "text/plain": [
              "array([[53892,   687],\n",
              "       [ 1891,  3530]])"
            ]
          },
          "metadata": {
            "tags": []
          },
          "execution_count": 13
        }
      ]
    },
    {
      "cell_type": "markdown",
      "metadata": {
        "id": "hxrvLduORZRc"
      },
      "source": [
        "The confusion matrix gives you a lot of information, but sometimes you may prefer a more concise metric.\n",
        "\n",
        "precision = TP / (TP + FP)\n",
        "\n",
        "recall = TP / (TP + FN)"
      ]
    },
    {
      "cell_type": "markdown",
      "metadata": {
        "id": "5gNvFRVCQmYJ"
      },
      "source": [
        "### Precision and Recall\n",
        "\n",
        "Scikit-Learn provides several functions to compute classifier metrics, including precision and recall:"
      ]
    },
    {
      "cell_type": "code",
      "metadata": {
        "id": "HTcOEY4uQlmN",
        "outputId": "995aa16d-1e01-4df9-b186-5839ca03d77d",
        "colab": {
          "base_uri": "https://localhost:8080/"
        }
      },
      "source": [
        "from sklearn.metrics import precision_score, recall_score\n",
        "\n",
        "precision_score(y_train_5, y_train_pred) \n"
      ],
      "execution_count": 14,
      "outputs": [
        {
          "output_type": "execute_result",
          "data": {
            "text/plain": [
              "0.8370879772350012"
            ]
          },
          "metadata": {
            "tags": []
          },
          "execution_count": 14
        }
      ]
    },
    {
      "cell_type": "code",
      "metadata": {
        "id": "oDGVFC_wUcOM",
        "outputId": "72afa409-1f9d-4483-8874-5c055b6c7a37",
        "colab": {
          "base_uri": "https://localhost:8080/"
        }
      },
      "source": [
        "recall_score(y_train_5, y_train_pred)"
      ],
      "execution_count": 15,
      "outputs": [
        {
          "output_type": "execute_result",
          "data": {
            "text/plain": [
              "0.6511713705958311"
            ]
          },
          "metadata": {
            "tags": []
          },
          "execution_count": 15
        }
      ]
    },
    {
      "cell_type": "markdown",
      "metadata": {
        "id": "KbMCZyiGmOC-"
      },
      "source": [
        "It is often convenient to combine precision and recall into a single metric called the F1 score, in particular if you need a simple way to compare two classifiers. The F1 score is the harmonic mean of precision and recall. Whereas the regular mean treats all values equally, the harmonic mean gives much more weight to low values.\n",
        "\n",
        "As a result, the classifier will only get a high F1 score if both recall and precision are high.\n",
        "\n",
        "To compute the F1 score, simply call the f1_score() function:"
      ]
    },
    {
      "cell_type": "code",
      "metadata": {
        "id": "pr16dfDmmegV",
        "outputId": "5a3af6ae-2374-4c28-f30c-29b078301687",
        "colab": {
          "base_uri": "https://localhost:8080/"
        }
      },
      "source": [
        "from sklearn.metrics import f1_score\n",
        "\n",
        "f1_score(y_train_5, y_train_pred)"
      ],
      "execution_count": 16,
      "outputs": [
        {
          "output_type": "execute_result",
          "data": {
            "text/plain": [
              "0.7325171197343846"
            ]
          },
          "metadata": {
            "tags": []
          },
          "execution_count": 16
        }
      ]
    },
    {
      "cell_type": "code",
      "metadata": {
        "id": "CMrRC5bpmi-O"
      },
      "source": [
        ""
      ],
      "execution_count": null,
      "outputs": []
    }
  ]
}