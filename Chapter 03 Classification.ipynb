{
  "nbformat": 4,
  "nbformat_minor": 0,
  "metadata": {
    "kernelspec": {
      "display_name": "Python 3",
      "language": "python",
      "name": "python3"
    },
    "language_info": {
      "codemirror_mode": {
        "name": "ipython",
        "version": 3
      },
      "file_extension": ".py",
      "mimetype": "text/x-python",
      "name": "python",
      "nbconvert_exporter": "python",
      "pygments_lexer": "ipython3",
      "version": "3.8.5"
    },
    "colab": {
      "name": "Chapter 03 Classification.ipynb",
      "provenance": [],
      "collapsed_sections": []
    }
  },
  "cells": [
    {
      "cell_type": "markdown",
      "metadata": {
        "id": "jVkQZOkwPiLq"
      },
      "source": [
        "# CHAPTER 3 - Classification"
      ]
    },
    {
      "cell_type": "markdown",
      "metadata": {
        "id": "x2uXOGJ1PiLr"
      },
      "source": [
        "## MNIST\n",
        "\n",
        "In this chapter we will be using the MNIST dataset, which is a set of 70,000 small images of digits handwritten by high school students and employees of the US Census Bureau. Each image is labeled with the digit it represents.\n",
        "\n",
        "Scikit-Learn provides many helper functions to download popular datasets. MNIST is one of them. The following code fetches the MNIST dataset:"
      ]
    },
    {
      "cell_type": "code",
      "metadata": {
        "id": "7kyoSsRRPiLt",
        "outputId": "a52e3a32-8182-4457-de75-a0b100d82d26",
        "colab": {
          "base_uri": "https://localhost:8080/"
        }
      },
      "source": [
        "from sklearn.datasets import fetch_openml\n",
        "\n",
        "mnist = fetch_openml('mnist_784', version=1)\n",
        "mnist.keys()"
      ],
      "execution_count": 1,
      "outputs": [
        {
          "output_type": "execute_result",
          "data": {
            "text/plain": [
              "dict_keys(['data', 'target', 'frame', 'feature_names', 'target_names', 'DESCR', 'details', 'categories', 'url'])"
            ]
          },
          "metadata": {
            "tags": []
          },
          "execution_count": 1
        }
      ]
    },
    {
      "cell_type": "markdown",
      "metadata": {
        "id": "MfQY43UCPiL1"
      },
      "source": [
        "Datasets loaded by Scikit-Learn generally have a similar dictionary structure, including the following:\n",
        "- A DESCR key describing the dataset\n",
        "- A data key containing an array with one row per instance and one column per feature\n",
        "- A target key containing an array with the labels"
      ]
    },
    {
      "cell_type": "code",
      "metadata": {
        "id": "H-XxEicQPiL2",
        "outputId": "4ef49574-69cc-45fd-ddfe-c8c6ae4847f3",
        "colab": {
          "base_uri": "https://localhost:8080/"
        }
      },
      "source": [
        "X, y = mnist[\"data\"], mnist[\"target\"]\n",
        "\n",
        "X.shape"
      ],
      "execution_count": 2,
      "outputs": [
        {
          "output_type": "execute_result",
          "data": {
            "text/plain": [
              "(70000, 784)"
            ]
          },
          "metadata": {
            "tags": []
          },
          "execution_count": 2
        }
      ]
    },
    {
      "cell_type": "code",
      "metadata": {
        "id": "73QOuK53PiL8",
        "outputId": "b57db9bc-759d-4f53-e502-2ab27be4ba9c",
        "colab": {
          "base_uri": "https://localhost:8080/"
        }
      },
      "source": [
        "y.shape"
      ],
      "execution_count": 3,
      "outputs": [
        {
          "output_type": "execute_result",
          "data": {
            "text/plain": [
              "(70000,)"
            ]
          },
          "metadata": {
            "tags": []
          },
          "execution_count": 3
        }
      ]
    },
    {
      "cell_type": "markdown",
      "metadata": {
        "id": "azlwQFuIPiME"
      },
      "source": [
        "There are 70,000 images, and each image has 784 features. This is because each image\n",
        "is 28 × 28 pixels, and each feature simply represents one pixel’s intensity, from 0\n",
        "(white) to 255 (black)."
      ]
    },
    {
      "cell_type": "markdown",
      "metadata": {
        "id": "6g2vsWQEPiMG"
      },
      "source": [
        "Let’s take a peek at one digit from the dataset. All you need to\n",
        "do is grab an instance’s feature vector, reshape it to a 28 × 28 array, and display it\n",
        "using Matplotlib’s imshow() function:"
      ]
    },
    {
      "cell_type": "code",
      "metadata": {
        "id": "I5NDvyqIPiMH",
        "outputId": "48c64356-3875-4f12-bc6c-fdc0c31b3847",
        "colab": {
          "base_uri": "https://localhost:8080/",
          "height": 248
        }
      },
      "source": [
        "import matplotlib as mpl\n",
        "import matplotlib.pyplot as plt\n",
        "\n",
        "some_digit = X[0]\n",
        "some_digit_image = some_digit.reshape(28, 28)\n",
        "plt.imshow(some_digit_image, cmap=\"binary\")\n",
        "plt.axis(\"off\")\n",
        "plt.show()"
      ],
      "execution_count": 4,
      "outputs": [
        {
          "output_type": "display_data",
          "data": {
            "image/png": "[encoded data removed]",
            "text/plain": [
              "<Figure size 432x288 with 1 Axes>"
            ]
          },
          "metadata": {
            "tags": [],
            "needs_background": "light"
          }
        }
      ]
    },
    {
      "cell_type": "markdown",
      "metadata": {
        "id": "J3SztLItPiMM"
      },
      "source": [
        "This looks like a 5, and indeed that’s what the label tells us:"
      ]
    },
    {
      "cell_type": "code",
      "metadata": {
        "id": "MHYLYPZ4PiMN",
        "outputId": "48a76490-6db5-4917-f622-b495b1e30dd1",
        "colab": {
          "base_uri": "https://localhost:8080/",
          "height": 36
        }
      },
      "source": [
        "y[0]"
      ],
      "execution_count": 5,
      "outputs": [
        {
          "output_type": "execute_result",
          "data": {
            "application/vnd.google.colaboratory.intrinsic+json": {
              "type": "string"
            },
            "text/plain": [
              "'5'"
            ]
          },
          "metadata": {
            "tags": []
          },
          "execution_count": 5
        }
      ]
    },
    {
      "cell_type": "markdown",
      "metadata": {
        "id": "rvTCKyABPiMU"
      },
      "source": [
        "This looks like a 5, and indeed that’s what the label tells us:"
      ]
    },
    {
      "cell_type": "code",
      "metadata": {
        "id": "6SVe-n9BPiMV"
      },
      "source": [
        "import numpy as np\n",
        "\n",
        "y = y.astype(np.uint8)"
      ],
      "execution_count": 6,
      "outputs": []
    },
    {
      "cell_type": "markdown",
      "metadata": {
        "id": "ALBeNJsYPiMY"
      },
      "source": [
        "But wait! You should always create a test set and set it aside before inspecting the data\n",
        "closely. The MNIST dataset is actually already split into a training set (the first 60,000\n",
        "images) and a test set (the last 10,000 images):"
      ]
    },
    {
      "cell_type": "code",
      "metadata": {
        "id": "t5QjlcahPiMZ"
      },
      "source": [
        "X_train, X_test, y_train, y_test = X[:60000], X[60000:], y[:60000], y[60000:]"
      ],
      "execution_count": 7,
      "outputs": []
    },
    {
      "cell_type": "markdown",
      "metadata": {
        "id": "cSbkc9RHPiMc"
      },
      "source": [
        "The training set is already shuffled for us, which is good because this guarantees that\n",
        "all cross-validation folds will be similar (you don’t want one fold to be missing some\n",
        "digits). Moreover, some learning algorithms are sensitive to the order of the training\n",
        "instances, and they perform poorly if they get many similar instances in a row. Shuffling the dataset ensures that this won’t happen. But Shuffling may be a bad idea in some contexts—for example, if you are working on time series data (such as stock market prices or weather conditions). We will explore this in the next chapters."
      ]
    },
    {
      "cell_type": "markdown",
      "metadata": {
        "id": "P_15Og7ZPiMc"
      },
      "source": [
        "## Training a Binary Classifier"
      ]
    },
    {
      "cell_type": "markdown",
      "metadata": {
        "id": "mugHXpS8PiMd"
      },
      "source": [
        "Let’s simplify the problem for now and only try to identify one digit—for example,\n",
        "the number 5. This “5-detector” will be an example of a binary classifier, capable of\n",
        "distinguishing between just two classes, 5 and not-5. Let’s create the target vectors for\n",
        "this classification task:"
      ]
    },
    {
      "cell_type": "code",
      "metadata": {
        "id": "FXFRn3_VPiMe"
      },
      "source": [
        "y_train_5 = (y_train == 5) # True for all 5s, False for all other digits\n",
        "y_test_5 = (y_test == 5)"
      ],
      "execution_count": 8,
      "outputs": []
    },
    {
      "cell_type": "markdown",
      "metadata": {
        "id": "71sesuqoPiMh"
      },
      "source": [
        "Now let’s pick a classifier and train it. A good place to start is with a Stochastic Gradient Descent (SGD) classifier, using Scikit-Learn’s SGDClassifier class."
      ]
    },
    {
      "cell_type": "code",
      "metadata": {
        "id": "_F5oApepPiMi",
        "outputId": "fdde2ed5-1360-4718-f8b4-2c129561b9d0",
        "colab": {
          "base_uri": "https://localhost:8080/"
        }
      },
      "source": [
        "from sklearn.linear_model import SGDClassifier\n",
        "\n",
        "sgd_clf = SGDClassifier(random_state=42)\n",
        "sgd_clf.fit(X_train, y_train_5)"
      ],
      "execution_count": 9,
      "outputs": [
        {
          "output_type": "execute_result",
          "data": {
            "text/plain": [
              "SGDClassifier(alpha=0.0001, average=False, class_weight=None,\n",
              "              early_stopping=False, epsilon=0.1, eta0=0.0, fit_intercept=True,\n",
              "              l1_ratio=0.15, learning_rate='optimal', loss='hinge',\n",
              "              max_iter=1000, n_iter_no_change=5, n_jobs=None, penalty='l2',\n",
              "              power_t=0.5, random_state=42, shuffle=True, tol=0.001,\n",
              "              validation_fraction=0.1, verbose=0, warm_start=False)"
            ]
          },
          "metadata": {
            "tags": []
          },
          "execution_count": 9
        }
      ]
    },
    {
      "cell_type": "markdown",
      "metadata": {
        "id": "x4Og-cuGPiMo"
      },
      "source": [
        "Now we can use it to detect images of the number 5:"
      ]
    },
    {
      "cell_type": "code",
      "metadata": {
        "id": "P-SrGxSDPiMq",
        "outputId": "1bb8ebb7-218b-4901-ef7f-bf785f8bf2a2",
        "colab": {
          "base_uri": "https://localhost:8080/"
        }
      },
      "source": [
        "sgd_clf.predict([some_digit])"
      ],
      "execution_count": 10,
      "outputs": [
        {
          "output_type": "execute_result",
          "data": {
            "text/plain": [
              "array([ True])"
            ]
          },
          "metadata": {
            "tags": []
          },
          "execution_count": 10
        }
      ]
    },
    {
      "cell_type": "markdown",
      "metadata": {
        "id": "u0fjCjfdPiMu"
      },
      "source": [
        "The classifier guesses that this image represents a 5 ( True ). Looks like it guessed right\n",
        "in this particular case! Now, let’s evaluate this model’s performance."
      ]
    },
    {
      "cell_type": "markdown",
      "metadata": {
        "id": "X45K6EA5PiMu"
      },
      "source": [
        "## Performance Measures\n",
        "\n",
        "Evaluating a classifier is often significantly trickier than evaluating a regressor, so we\n",
        "will spend a large part of this chapter on this topic. \n",
        "\n",
        "### Measuring Accuracy Using Cross-Validation\n",
        "\n",
        "A good way to evaluate a model is to use cross-validation, just as we did in Chapter 2."
      ]
    },
    {
      "cell_type": "code",
      "metadata": {
        "id": "NiwQAeRXPiMv",
        "outputId": "38bacda0-9267-4784-dd76-64a9fb00dc64",
        "colab": {
          "base_uri": "https://localhost:8080/"
        }
      },
      "source": [
        "from sklearn.model_selection import cross_val_score\n",
        "\n",
        "cross_val_score(sgd_clf, X_train, y_train_5, cv=3, scoring=\"accuracy\")"
      ],
      "execution_count": 11,
      "outputs": [
        {
          "output_type": "execute_result",
          "data": {
            "text/plain": [
              "array([0.95035, 0.96035, 0.9604 ])"
            ]
          },
          "metadata": {
            "tags": []
          },
          "execution_count": 11
        }
      ]
    },
    {
      "cell_type": "markdown",
      "metadata": {
        "id": "GA-stTuuPiM0"
      },
      "source": [
        "Wow! Above 95% accuracy (ratio of correct predictions) on all cross-validation folds?\n",
        "This looks amazing, doesn’t it? Well, before you get too excited, only about 10% of the\n",
        "images are 5s, so if you always guess that an image is not a 5, you will be right about\n",
        "90% of the time. \n",
        "\n",
        "This demonstrates why accuracy is generally not the preferred performance measure\n",
        "for classifiers, especially when you are dealing with skewed datasets (i.e., when some\n",
        "classes are much more frequent than others)."
      ]
    },
    {
      "cell_type": "markdown",
      "metadata": {
        "id": "BajpBXEsPiM1"
      },
      "source": [
        "### Confusion Matrix\n",
        "\n",
        "A much better way to evaluate the performance of a classifier is to look at the confu‐\n",
        "sion matrix. The general idea is to count the number of times instances of class A are\n",
        "classified as class B. For example, to know the number of times the classifier confused\n",
        "images of 5s with 3s, you would look in the fifth row and third column of the confusion matrix. \n",
        "\n",
        "To compute the confusion matrix, you first need to have a set of predictions so that\n",
        "they can be compared to the actual targets."
      ]
    },
    {
      "cell_type": "code",
      "metadata": {
        "id": "hNYmLtqLPiM2"
      },
      "source": [
        "from sklearn.model_selection import cross_val_predict\n",
        "\n",
        "y_train_pred = cross_val_predict(sgd_clf, X_train, y_train_5, cv=3)"
      ],
      "execution_count": 12,
      "outputs": []
    },
    {
      "cell_type": "markdown",
      "metadata": {
        "id": "2Hf8e2FhMnbU"
      },
      "source": [
        "Now you are ready to get the confusion matrix using the confusion_matrix() function. Just pass it the target classes ( y_train_5 ) and the predicted classes ( y_train_pred ):"
      ]
    },
    {
      "cell_type": "code",
      "metadata": {
        "id": "RsDZwzLWMspW",
        "outputId": "6ef1169d-4159-4bc8-b962-16dd5d6d7b0c",
        "colab": {
          "base_uri": "https://localhost:8080/"
        }
      },
      "source": [
        "from sklearn.metrics import confusion_matrix\n",
        "\n",
        "confusion_matrix(y_train_5, y_train_pred)"
      ],
      "execution_count": 13,
      "outputs": [
        {
          "output_type": "execute_result",
          "data": {
            "text/plain": [
              "array([[53892,   687],\n",
              "       [ 1891,  3530]])"
            ]
          },
          "metadata": {
            "tags": []
          },
          "execution_count": 13
        }
      ]
    },
    {
      "cell_type": "markdown",
      "metadata": {
        "id": "hxrvLduORZRc"
      },
      "source": [
        "The confusion matrix gives you a lot of information, but sometimes you may prefer a more concise metric.\n",
        "\n",
        "precision = TP / (TP + FP)\n",
        "\n",
        "recall = TP / (TP + FN)"
      ]
    },
    {
      "cell_type": "markdown",
      "metadata": {
        "id": "5gNvFRVCQmYJ"
      },
      "source": [
        "### Precision and Recall\n",
        "\n",
        "Scikit-Learn provides several functions to compute classifier metrics, including precision and recall:"
      ]
    },
    {
      "cell_type": "code",
      "metadata": {
        "id": "HTcOEY4uQlmN",
        "outputId": "50ab21c4-7937-4868-d56b-f19b5a189b3d",
        "colab": {
          "base_uri": "https://localhost:8080/"
        }
      },
      "source": [
        "from sklearn.metrics import precision_score, recall_score\n",
        "\n",
        "precision_score(y_train_5, y_train_pred) \n"
      ],
      "execution_count": 14,
      "outputs": [
        {
          "output_type": "execute_result",
          "data": {
            "text/plain": [
              "0.8370879772350012"
            ]
          },
          "metadata": {
            "tags": []
          },
          "execution_count": 14
        }
      ]
    },
    {
      "cell_type": "code",
      "metadata": {
        "id": "oDGVFC_wUcOM",
        "outputId": "78ec6bfd-cd4c-4a52-9073-b74559596ea8",
        "colab": {
          "base_uri": "https://localhost:8080/"
        }
      },
      "source": [
        "recall_score(y_train_5, y_train_pred)"
      ],
      "execution_count": 15,
      "outputs": [
        {
          "output_type": "execute_result",
          "data": {
            "text/plain": [
              "0.6511713705958311"
            ]
          },
          "metadata": {
            "tags": []
          },
          "execution_count": 15
        }
      ]
    },
    {
      "cell_type": "markdown",
      "metadata": {
        "id": "KbMCZyiGmOC-"
      },
      "source": [
        "It is often convenient to combine precision and recall into a single metric called the F1 score, in particular if you need a simple way to compare two classifiers. The F1 score is the harmonic mean of precision and recall. Whereas the regular mean treats all values equally, the harmonic mean gives much more weight to low values.\n",
        "\n",
        "As a result, the classifier will only get a high F1 score if both recall and precision are high.\n",
        "\n",
        "To compute the F1 score, simply call the f1_score() function:"
      ]
    },
    {
      "cell_type": "code",
      "metadata": {
        "id": "pr16dfDmmegV",
        "outputId": "82ba0565-7f8a-4b78-b253-6184bb318a09",
        "colab": {
          "base_uri": "https://localhost:8080/"
        }
      },
      "source": [
        "from sklearn.metrics import f1_score\n",
        "\n",
        "f1_score(y_train_5, y_train_pred)"
      ],
      "execution_count": 16,
      "outputs": [
        {
          "output_type": "execute_result",
          "data": {
            "text/plain": [
              "0.7325171197343846"
            ]
          },
          "metadata": {
            "tags": []
          },
          "execution_count": 16
        }
      ]
    },
    {
      "cell_type": "markdown",
      "metadata": {
        "id": "rmXMCywccE8z"
      },
      "source": [
        "The F1 score favors classifiers that have similar precision and recall. This is not always what you want: in some contexts you mostly care about precision, and in other contexts you really care about recall.\n",
        "\n",
        "### Precision/Recall Trade-off\n",
        "\n",
        "To understand this trade-off, let’s look at how the SGDClassifier makes its classification decisions. For each instance, it computes a score based on a decision function. If that score is greater than a threshold, it assigns the instance to the positive class, otherwise it assigns it to the negative class.\n",
        "\n",
        "Scikit-Learn does not let you set the threshold directly, but it does give you access to the decision scores that it uses to make predictions. Instead of calling the classifier’s predict() method, you can call its decision_function() method, which returns a score for each instance, and then use any threshold you want to make predictions based on those scores:\n"
      ]
    },
    {
      "cell_type": "code",
      "metadata": {
        "id": "KnbdzdAccy1a",
        "outputId": "d59db349-f8ba-42f2-9df1-fd31cf249faf",
        "colab": {
          "base_uri": "https://localhost:8080/"
        }
      },
      "source": [
        "y_scores = sgd_clf.decision_function([some_digit])\n",
        "y_scores"
      ],
      "execution_count": 17,
      "outputs": [
        {
          "output_type": "execute_result",
          "data": {
            "text/plain": [
              "array([2164.22030239])"
            ]
          },
          "metadata": {
            "tags": []
          },
          "execution_count": 17
        }
      ]
    },
    {
      "cell_type": "code",
      "metadata": {
        "id": "Jfn_1647c2xv",
        "outputId": "fc74e4d1-8c16-4d3f-f573-ff1dd2a0a7b7",
        "colab": {
          "base_uri": "https://localhost:8080/"
        }
      },
      "source": [
        "threshold = 0\n",
        "y_some_digit_pred = (y_scores > threshold)\n",
        "y_some_digit_pred"
      ],
      "execution_count": 18,
      "outputs": [
        {
          "output_type": "execute_result",
          "data": {
            "text/plain": [
              "array([ True])"
            ]
          },
          "metadata": {
            "tags": []
          },
          "execution_count": 18
        }
      ]
    },
    {
      "cell_type": "markdown",
      "metadata": {
        "id": "9LOMEkIh2i5M"
      },
      "source": [
        "The SGDClassifier uses a threshold equal to 0, so the previous code returns the same result as the predict() method (i.e., True ). Let’s raise the threshold:"
      ]
    },
    {
      "cell_type": "code",
      "metadata": {
        "id": "RIY3xCnC2dkQ",
        "outputId": "9fd0243f-e4d6-4d10-bb7c-883345144da1",
        "colab": {
          "base_uri": "https://localhost:8080/"
        }
      },
      "source": [
        "threshold = 8000\n",
        "y_some_digit_pred = (y_scores > threshold)\n",
        "y_some_digit_pred"
      ],
      "execution_count": 19,
      "outputs": [
        {
          "output_type": "execute_result",
          "data": {
            "text/plain": [
              "array([False])"
            ]
          },
          "metadata": {
            "tags": []
          },
          "execution_count": 19
        }
      ]
    },
    {
      "cell_type": "markdown",
      "metadata": {
        "id": "FEgtVUIp2raS"
      },
      "source": [
        "This confirms that raising the threshold decreases recall. The image actually represents a 5, and the classifier detects it when the threshold is 0, but it misses it when the threshold is increased to 8,000.\n",
        "\n",
        "How do you decide which threshold to use? First, use the cross_val_predict()\n",
        "function to get the scores of all instances in the training set, but this time specify that you want to return decision scores instead of predictions:"
      ]
    },
    {
      "cell_type": "code",
      "metadata": {
        "id": "Ia2v8Xx522Bt"
      },
      "source": [
        "y_scores = cross_val_predict(sgd_clf, X_train, y_train_5, cv=3, method=\"decision_function\")"
      ],
      "execution_count": 20,
      "outputs": []
    },
    {
      "cell_type": "markdown",
      "metadata": {
        "id": "45Anh7Ur27NZ"
      },
      "source": [
        "With these scores, use the precision_recall_curve() function to compute precision and recall for all possible thresholds:"
      ]
    },
    {
      "cell_type": "code",
      "metadata": {
        "id": "9Gzg3okz2-aO"
      },
      "source": [
        "from sklearn.metrics import precision_recall_curve\n",
        "\n",
        "precisions, recalls, thresholds = precision_recall_curve(y_train_5, y_scores)"
      ],
      "execution_count": 21,
      "outputs": []
    },
    {
      "cell_type": "markdown",
      "metadata": {
        "id": "F30bnkn83B8C"
      },
      "source": [
        "Finally, use Matplotlib to plot precision and recall as functions of the threshold value"
      ]
    },
    {
      "cell_type": "code",
      "metadata": {
        "id": "UKwhllwc3BYL",
        "outputId": "82c0ad55-d7f3-4b91-fdb4-b3e075866be4",
        "colab": {
          "base_uri": "https://localhost:8080/",
          "height": 288
        }
      },
      "source": [
        "def plot_precision_recall_vs_threshold(precisions, recalls, thresholds):\n",
        "  plt.plot(thresholds, precisions[:-1], \"b--\", label=\"Precision\")\n",
        "  plt.plot(thresholds, recalls[:-1], \"g-\", label=\"Recall\")\n",
        "  plt.legend(loc=\"center right\", fontsize=16)\n",
        "  plt.xlabel(\"Threshold\", fontsize=16)\n",
        "  plt.grid(True)\n",
        "  plt.axis([-50000, 50000, 0, 1])  \n",
        "\n",
        "plot_precision_recall_vs_threshold(precisions, recalls, thresholds)\n",
        "plt.show()"
      ],
      "execution_count": 22,
      "outputs": [
        {
          "output_type": "display_data",
          "data": {
            "image/png": "[encoded data removed]",
            "text/plain": [
              "<Figure size 432x288 with 1 Axes>"
            ]
          },
          "metadata": {
            "tags": [],
            "needs_background": "light"
          }
        }
      ]
    },
    {
      "cell_type": "markdown",
      "metadata": {
        "id": "sTiGxlEp5EjT"
      },
      "source": [
        "Another way to select a good precision/recall trade-off is to plot precision directly against recall."
      ]
    },
    {
      "cell_type": "code",
      "metadata": {
        "id": "qoXMzop45N3l",
        "outputId": "e03eb804-f334-4327-9af4-f491adb6ef85",
        "colab": {
          "base_uri": "https://localhost:8080/",
          "height": 288
        }
      },
      "source": [
        "def plot_precision_vs_recall(precisions, recalls):\n",
        "    plt.plot(recalls, precisions, \"b-\", linewidth=2)\n",
        "    plt.xlabel(\"Recall\", fontsize=16)\n",
        "    plt.ylabel(\"Precision\", fontsize=16)\n",
        "    plt.axis([0, 1, 0, 1])\n",
        "    plt.grid(True)\n",
        "\n",
        "plot_precision_vs_recall(precisions, recalls)\n",
        "plt.show()"
      ],
      "execution_count": 23,
      "outputs": [
        {
          "output_type": "display_data",
          "data": {
            "image/png": "[encoded data removed]",
            "text/plain": [
              "<Figure size 432x288 with 1 Axes>"
            ]
          },
          "metadata": {
            "tags": [],
            "needs_background": "light"
          }
        }
      ]
    },
    {
      "cell_type": "markdown",
      "metadata": {
        "id": "LhJlSseW5syR"
      },
      "source": [
        "Suppose you decide to aim for 90% precision. You look up the first plot and find that you need to use a threshold of about 8,000. To be more precise you can search for the lowest threshold that gives you at least 90% precision (np.argmax() will give you the first index of the maximum value, which in this case means the first True value):"
      ]
    },
    {
      "cell_type": "code",
      "metadata": {
        "id": "hqzr_DVh5UmI"
      },
      "source": [
        "threshold_90_precision = thresholds[np.argmax(precisions >= 0.90)]\n"
      ],
      "execution_count": 24,
      "outputs": []
    },
    {
      "cell_type": "markdown",
      "metadata": {
        "id": "cWu5468L6APt"
      },
      "source": [
        "To make predictions (on the training set for now), instead of calling the classifier’s predict() method, you can run this code:"
      ]
    },
    {
      "cell_type": "code",
      "metadata": {
        "id": "XkRhJe0s50Nk",
        "outputId": "49b736e3-fadc-4894-aad7-ba9d9096d202",
        "colab": {
          "base_uri": "https://localhost:8080/"
        }
      },
      "source": [
        "y_train_pred_90 = (y_scores >= threshold_90_precision)\n",
        "precision_score(y_train_5, y_train_pred_90)"
      ],
      "execution_count": 25,
      "outputs": [
        {
          "output_type": "execute_result",
          "data": {
            "text/plain": [
              "0.9000345901072293"
            ]
          },
          "metadata": {
            "tags": []
          },
          "execution_count": 25
        }
      ]
    },
    {
      "cell_type": "code",
      "metadata": {
        "id": "48JgQGU36DxA",
        "outputId": "6ac51ab2-2e04-4da0-db36-3172d786306b",
        "colab": {
          "base_uri": "https://localhost:8080/"
        }
      },
      "source": [
        "recall_score(y_train_5, y_train_pred_90)"
      ],
      "execution_count": 26,
      "outputs": [
        {
          "output_type": "execute_result",
          "data": {
            "text/plain": [
              "0.4799852425751706"
            ]
          },
          "metadata": {
            "tags": []
          },
          "execution_count": 26
        }
      ]
    },
    {
      "cell_type": "markdown",
      "metadata": {
        "id": "2A8h9f6h6Qmf"
      },
      "source": [
        "Great, you have a 90% precision classifier! As you can see, it is fairly easy to create a classifier with virtually any precision you want: just set a high enough threshold, and you’re done. But wait, not so fast. A high-precision classifier is not very useful if its recall is too low!\n"
      ]
    },
    {
      "cell_type": "markdown",
      "metadata": {
        "id": "LwmY-x-LBSaG"
      },
      "source": [
        "### The ROC Curve\n",
        "\n",
        "The receiver operating characteristic (ROC) curve is another common tool used with binary classifiers. It is very similar to the precision/recall curve, but instead of plotting precision versus recall, the ROC curve plots the true positive rate (another name for recall recall = TP / (TP + FN)) against the false positive rate (FPR = FP / (FP + TN)).\n",
        "\n",
        "To plot the ROC curve, you first use the roc_curve() function to compute the TPR\n",
        "and FPR for various threshold values:"
      ]
    },
    {
      "cell_type": "code",
      "metadata": {
        "id": "YCOaTieCFtvt"
      },
      "source": [
        "from sklearn.metrics import roc_curve\n",
        "\n",
        "fpr, tpr, thresholds = roc_curve(y_train_5, y_scores)"
      ],
      "execution_count": 27,
      "outputs": []
    },
    {
      "cell_type": "markdown",
      "metadata": {
        "id": "T30kl1lvCKgC"
      },
      "source": [
        "Then you can plot the FPR against the TPR using Matplotlib."
      ]
    },
    {
      "cell_type": "code",
      "metadata": {
        "id": "uhvzy9l-CPik",
        "outputId": "3b06c9d2-7c92-40b9-bd04-ad83567d1ab4",
        "colab": {
          "base_uri": "https://localhost:8080/",
          "height": 288
        }
      },
      "source": [
        "def plot_roc_curve(fpr, tpr, label=None):\n",
        "    plt.plot(fpr, tpr, linewidth=2, label=label)\n",
        "    plt.plot([0, 1], [0, 1], 'k--')\n",
        "    plt.axis([0, 1, 0, 1])\n",
        "    plt.xlabel('False Positive Rate (Fall-Out)', fontsize=16)\n",
        "    plt.ylabel('True Positive Rate (Recall)', fontsize=16)\n",
        "    plt.grid(True)\n",
        "\n",
        "plot_roc_curve(fpr, tpr)\n",
        "plt.show()"
      ],
      "execution_count": 28,
      "outputs": [
        {
          "output_type": "display_data",
          "data": {
            "image/png": "[encoded data removed]",
            "text/plain": [
              "<Figure size 432x288 with 1 Axes>"
            ]
          },
          "metadata": {
            "tags": [],
            "needs_background": "light"
          }
        }
      ]
    },
    {
      "cell_type": "markdown",
      "metadata": {
        "id": "xVTxeieNCtqI"
      },
      "source": [
        "Once again there is a trade-off: the higher the recall (TPR), the more false positives (FPR) the classifier produces. The dotted line represents the ROC curve of a purely random classifier; a good classifier stays as far away from that line as possible (toward the top-left corner).\n",
        "\n",
        "One way to compare classifiers is to measure the area under the curve (AUC). A perfect classifier will have a ROC AUC equal to 1, whereas a purely random classifier will have a ROC AUC equal to 0.5. Scikit-Learn provides a function to compute the ROC AUC:"
      ]
    },
    {
      "cell_type": "code",
      "metadata": {
        "id": "vKKUnvfdDUQF",
        "outputId": "8a0ef6ee-31ca-4937-bab4-656177b9dd5c",
        "colab": {
          "base_uri": "https://localhost:8080/"
        }
      },
      "source": [
        "from sklearn.metrics import roc_auc_score\n",
        "\n",
        "roc_auc_score(y_train_5, y_scores)"
      ],
      "execution_count": 29,
      "outputs": [
        {
          "output_type": "execute_result",
          "data": {
            "text/plain": [
              "0.9604938554008616"
            ]
          },
          "metadata": {
            "tags": []
          },
          "execution_count": 29
        }
      ]
    },
    {
      "cell_type": "markdown",
      "metadata": {
        "id": "7Wsf4pYjEKdj"
      },
      "source": [
        "Since the ROC curve is so similar to the precision/recall (PR)\n",
        "curve, you may wonder how to decide which one to use. As a rule\n",
        "of thumb, you should prefer the PR curve whenever the positive\n",
        "class is rare or when you care more about the false positives than\n",
        "the false negatives. Otherwise, use the ROC curve."
      ]
    },
    {
      "cell_type": "markdown",
      "metadata": {
        "id": "ZJaOBCJXEl5f"
      },
      "source": [
        "Let’s now train a RandomForestClassifier and compare its ROC curve and ROC\n",
        "AUC score to those of the SGDClassifier . First, you need to get scores for each\n",
        "instance in the training set. But due to the way it works, the Random ForestClassifier class does not have a decision_function() method. Instead, it has a predict_proba() method. Scikit-Learn classifiers generally have one or the\n",
        "other, or both. The predict_proba() method returns an array containing a row per\n",
        "instance and a column per class, each containing the probability that the given\n",
        "instance belongs to the given class (e.g., 70% chance that the image represents a 5):"
      ]
    },
    {
      "cell_type": "code",
      "metadata": {
        "id": "LrmCivDNExU8"
      },
      "source": [
        "from sklearn.ensemble import RandomForestClassifier\n",
        "\n",
        "forest_clf = RandomForestClassifier(random_state=42)\n",
        "y_probas_forest = cross_val_predict(forest_clf, X_train, y_train_5, cv=3, method=\"predict_proba\")"
      ],
      "execution_count": 30,
      "outputs": []
    },
    {
      "cell_type": "markdown",
      "metadata": {
        "id": "K1jXzGenE3u2"
      },
      "source": [
        "The roc_curve() function expects labels and scores, but instead of scores you can give it class probabilities. Let’s use the positive class’s probability as the score:"
      ]
    },
    {
      "cell_type": "code",
      "metadata": {
        "id": "gnnDMOXpE63O"
      },
      "source": [
        "y_scores_forest = y_probas_forest[:, 1]  # score = proba of positive class\n",
        "fpr_forest, tpr_forest, thresholds_forest = roc_curve(y_train_5,y_scores_forest)"
      ],
      "execution_count": 31,
      "outputs": []
    },
    {
      "cell_type": "markdown",
      "metadata": {
        "id": "1eIjp06NFDIX"
      },
      "source": [
        "Now you are ready to plot the ROC curve. It is useful to plot the first ROC curve as well to see how they compare"
      ]
    },
    {
      "cell_type": "code",
      "metadata": {
        "id": "aBARUql4FGsA",
        "outputId": "d45808e3-7e01-4d6b-bbf3-b18b45993b13",
        "colab": {
          "base_uri": "https://localhost:8080/",
          "height": 288
        }
      },
      "source": [
        "plt.plot(fpr, tpr, \"b:\", label=\"SGD\")\n",
        "plot_roc_curve(fpr_forest, tpr_forest, \"Random Forest\")\n",
        "plt.legend(loc=\"lower right\")\n",
        "plt.show()"
      ],
      "execution_count": 32,
      "outputs": [
        {
          "output_type": "display_data",
          "data": {
            "image/png": "[encoded data removed]",
            "text/plain": [
              "<Figure size 432x288 with 1 Axes>"
            ]
          },
          "metadata": {
            "tags": [],
            "needs_background": "light"
          }
        }
      ]
    },
    {
      "cell_type": "markdown",
      "metadata": {
        "id": "Kse6okOkFP0n"
      },
      "source": [
        "As you can see, the RandomForestClassifier ’s ROC curve looks much better than the SGDClassifier ’s: it comes much closer to the top-left corner. As a\n",
        "result, its ROC AUC score is also significantly better:"
      ]
    },
    {
      "cell_type": "code",
      "metadata": {
        "id": "9sHjz27yFaX8",
        "outputId": "67ecfcbe-391a-491b-ca85-ce27ed28e310",
        "colab": {
          "base_uri": "https://localhost:8080/"
        }
      },
      "source": [
        "roc_auc_score(y_train_5, y_scores_forest)"
      ],
      "execution_count": 33,
      "outputs": [
        {
          "output_type": "execute_result",
          "data": {
            "text/plain": [
              "0.9983436731328145"
            ]
          },
          "metadata": {
            "tags": []
          },
          "execution_count": 33
        }
      ]
    },
    {
      "cell_type": "code",
      "metadata": {
        "id": "rmXEghbeHWs_",
        "outputId": "35121465-1b8a-43e1-9e8f-f0f13b413d11",
        "colab": {
          "base_uri": "https://localhost:8080/"
        }
      },
      "source": [
        "y_train_pred_forest = cross_val_predict(forest_clf, X_train, y_train_5, cv=3)\n",
        "precision_score(y_train_5, y_train_pred_forest)"
      ],
      "execution_count": 34,
      "outputs": [
        {
          "output_type": "execute_result",
          "data": {
            "text/plain": [
              "0.9905083315756169"
            ]
          },
          "metadata": {
            "tags": []
          },
          "execution_count": 34
        }
      ]
    },
    {
      "cell_type": "code",
      "metadata": {
        "id": "WmDV4YFpG-Cq",
        "outputId": "daafe7f2-0e96-426a-a9bc-d1e1c827268e",
        "colab": {
          "base_uri": "https://localhost:8080/"
        }
      },
      "source": [
        "recall_score(y_train_5, y_train_pred_forest)"
      ],
      "execution_count": 35,
      "outputs": [
        {
          "output_type": "execute_result",
          "data": {
            "text/plain": [
              "0.8662608374838591"
            ]
          },
          "metadata": {
            "tags": []
          },
          "execution_count": 35
        }
      ]
    },
    {
      "cell_type": "markdown",
      "metadata": {
        "id": "TJHz5zW1Hrpd"
      },
      "source": [
        "You now know how to train binary classifiers, choose the appropriate metric for your task, evaluate your classifiers using cross-validation, select the precision/recall trade-off that fits your needs, and use ROC curves and ROC AUC scores to compare various models."
      ]
    },
    {
      "cell_type": "markdown",
      "metadata": {
        "id": "vQdabVyCZP62"
      },
      "source": [
        "## Multiclass Classification\n",
        "\n",
        "Whereas binary classifiers distinguish between two classes, multiclass classifiers (also called multinomial classifiers) can distinguish between more than two classes.\n",
        "There are various strategies that you can use to perform multiclass lassification with multiple binary classifiers.\n",
        "\n",
        "\n",
        "*   one-versus-the-rest (OvR)\n",
        "*   one-versus-one (OvO)\n",
        "\n",
        "Scikit-Learn detects when you try to use a binary classification algorithm for a multiclass classification task, and it automatically runs OvR or OvO, depending on the algorithm. Let’s try this with a Support Vector Machine classifier, using the sklearn.svm.SVC class:\n"
      ]
    },
    {
      "cell_type": "code",
      "metadata": {
        "id": "096FouE2Z-d5",
        "outputId": "f8986ddd-63e8-466e-aa9f-6a0c472a576e",
        "colab": {
          "base_uri": "https://localhost:8080/"
        }
      },
      "source": [
        "from sklearn.svm import SVC\n",
        "\n",
        "svm_clf = SVC()\n",
        "svm_clf.fit(X_train, y_train)\n",
        "svm_clf.predict([some_digit])"
      ],
      "execution_count": 36,
      "outputs": [
        {
          "output_type": "execute_result",
          "data": {
            "text/plain": [
              "array([5], dtype=uint8)"
            ]
          },
          "metadata": {
            "tags": []
          },
          "execution_count": 36
        }
      ]
    },
    {
      "cell_type": "markdown",
      "metadata": {
        "id": "j6Nw-YKLaZu2"
      },
      "source": [
        "This code trains the SVC on the training set using the original target\n",
        "classes from 0 to 9 ( y_train ), instead of the 5-versus-the-rest target classes\n",
        "( y_train_5 ). Then it makes a prediction (a correct one in this case). Under the hood, Scikit-Learn actually used the OvO strategy: it trained 45 binary classifiers, got their decision scores for the image, and selected the class that won the most duels.\n",
        "\n",
        "If you call the decision_function() method, you will see that it returns 10 scores per instance (instead of just 1). That’s one score per class:"
      ]
    },
    {
      "cell_type": "code",
      "metadata": {
        "id": "H4l9SvfNZxOs",
        "outputId": "d4da2bb5-7d6c-445b-f7ef-f2ec35d6f986",
        "colab": {
          "base_uri": "https://localhost:8080/"
        }
      },
      "source": [
        "some_digit_scores = svm_clf.decision_function([some_digit])\n",
        "some_digit_scores"
      ],
      "execution_count": 37,
      "outputs": [
        {
          "output_type": "execute_result",
          "data": {
            "text/plain": [
              "array([[ 1.72501977,  2.72809088,  7.2510018 ,  8.3076379 , -0.31087254,\n",
              "         9.3132482 ,  1.70975103,  2.76765202,  6.23049537,  4.84771048]])"
            ]
          },
          "metadata": {
            "tags": []
          },
          "execution_count": 37
        }
      ]
    },
    {
      "cell_type": "markdown",
      "metadata": {
        "id": "W33NegMYammm"
      },
      "source": [
        "The highest score is indeed the one corresponding to class 5:"
      ]
    },
    {
      "cell_type": "code",
      "metadata": {
        "id": "spiI_3sSaodK",
        "outputId": "d187c1f2-158e-437a-993c-56d3f3232b2c",
        "colab": {
          "base_uri": "https://localhost:8080/"
        }
      },
      "source": [
        "np.argmax(some_digit_scores)"
      ],
      "execution_count": 38,
      "outputs": [
        {
          "output_type": "execute_result",
          "data": {
            "text/plain": [
              "5"
            ]
          },
          "metadata": {
            "tags": []
          },
          "execution_count": 38
        }
      ]
    },
    {
      "cell_type": "code",
      "metadata": {
        "id": "oGM8OfEaasYV",
        "outputId": "737ddb51-7223-448d-8514-1f2ec92870cc",
        "colab": {
          "base_uri": "https://localhost:8080/"
        }
      },
      "source": [
        "svm_clf.classes_"
      ],
      "execution_count": 39,
      "outputs": [
        {
          "output_type": "execute_result",
          "data": {
            "text/plain": [
              "array([0, 1, 2, 3, 4, 5, 6, 7, 8, 9], dtype=uint8)"
            ]
          },
          "metadata": {
            "tags": []
          },
          "execution_count": 39
        }
      ]
    },
    {
      "cell_type": "code",
      "metadata": {
        "id": "AF1k95pratxU",
        "outputId": "59aeb62e-0ad7-4936-9e28-2cddce49b965",
        "colab": {
          "base_uri": "https://localhost:8080/"
        }
      },
      "source": [
        "svm_clf.classes_[5]"
      ],
      "execution_count": 40,
      "outputs": [
        {
          "output_type": "execute_result",
          "data": {
            "text/plain": [
              "5"
            ]
          },
          "metadata": {
            "tags": []
          },
          "execution_count": 40
        }
      ]
    },
    {
      "cell_type": "markdown",
      "metadata": {
        "id": "c6wlwMYqax90"
      },
      "source": [
        "When a classifier is trained, it stores the list of target classes in its classes_ attribute, ordered by value. In this case, the index of each\n",
        "class in the classes_ array conveniently matches the class itself\n",
        "(e.g., the class at index 5 happens to be class 5 ), but in general you\n",
        "won’t be so lucky.\n",
        "\n",
        "If you want to force Scikit-Learn to use one-versus-one or one-versus-the-rest, you can use the OneVsOneClassifier or OneVsRestClassifier classes. Simply create an instance and pass a classifier to its constructor (it does not even have to be a binary classifier). For example, this code creates a multiclass classifier using the OvR strategy, based on an SVC:"
      ]
    },
    {
      "cell_type": "code",
      "metadata": {
        "id": "mT5ukSv1cxwM",
        "outputId": "2a946bac-4653-46aa-db03-1627f160231f",
        "colab": {
          "base_uri": "https://localhost:8080/"
        }
      },
      "source": [
        "from sklearn.multiclass import OneVsRestClassifier\n",
        "\n",
        "ovr_clf = OneVsRestClassifier(SVC())\n",
        "ovr_clf.fit(X_train, y_train)\n",
        "ovr_clf.predict([some_digit])"
      ],
      "execution_count": 41,
      "outputs": [
        {
          "output_type": "execute_result",
          "data": {
            "text/plain": [
              "array([5], dtype=uint8)"
            ]
          },
          "metadata": {
            "tags": []
          },
          "execution_count": 41
        }
      ]
    },
    {
      "cell_type": "code",
      "metadata": {
        "id": "RS5u0IFac5Le",
        "outputId": "addadc98-96dd-48b9-b671-a477a662fa8b",
        "colab": {
          "base_uri": "https://localhost:8080/"
        }
      },
      "source": [
        "len(ovr_clf.estimators_)"
      ],
      "execution_count": 42,
      "outputs": [
        {
          "output_type": "execute_result",
          "data": {
            "text/plain": [
              "10"
            ]
          },
          "metadata": {
            "tags": []
          },
          "execution_count": 42
        }
      ]
    },
    {
      "cell_type": "markdown",
      "metadata": {
        "id": "mwXDnOcBdO1J"
      },
      "source": [
        "Training an SGDClassifier (or a RandomForestClassifier ) is just as easy:"
      ]
    },
    {
      "cell_type": "code",
      "metadata": {
        "id": "uJuMtdbBdPdV",
        "outputId": "8af3239a-3c1a-4688-ed0b-0eb11ede70a1",
        "colab": {
          "base_uri": "https://localhost:8080/"
        }
      },
      "source": [
        "sgd_clf.fit(X_train, y_train)\n",
        "sgd_clf.predict([some_digit])"
      ],
      "execution_count": 43,
      "outputs": [
        {
          "output_type": "execute_result",
          "data": {
            "text/plain": [
              "array([3], dtype=uint8)"
            ]
          },
          "metadata": {
            "tags": []
          },
          "execution_count": 43
        }
      ]
    },
    {
      "cell_type": "markdown",
      "metadata": {
        "id": "KDB6t15RdWip"
      },
      "source": [
        "This time Scikit-Learn did not have to run OvR or OvO because SGD classifiers can directly classify instances into multiple classes. The decision_function() method now returns one value per class. Let’s look at the score that the SGD classifier assigned\n",
        "to each class:"
      ]
    },
    {
      "cell_type": "code",
      "metadata": {
        "id": "Ts1-YqtFdYYq",
        "outputId": "b27bb3f9-7b33-4cdb-f0da-dbe660422a12",
        "colab": {
          "base_uri": "https://localhost:8080/"
        }
      },
      "source": [
        "sgd_clf.decision_function([some_digit])"
      ],
      "execution_count": 44,
      "outputs": [
        {
          "output_type": "execute_result",
          "data": {
            "text/plain": [
              "array([[-31893.03095419, -34419.69069632,  -9530.63950739,\n",
              "          1823.73154031, -22320.14822878,  -1385.80478895,\n",
              "        -26188.91070951, -16147.51323997,  -4604.35491274,\n",
              "        -12050.767298  ]])"
            ]
          },
          "metadata": {
            "tags": []
          },
          "execution_count": 44
        }
      ]
    },
    {
      "cell_type": "markdown",
      "metadata": {
        "id": "0VQorGnoduyv"
      },
      "source": [
        "As usual, you can use cross-validation. Use the cross_val_score() function to evaluate the SGDClassifier ’s accuracy:"
      ]
    },
    {
      "cell_type": "code",
      "metadata": {
        "id": "f3oTnXwpdwTn",
        "outputId": "f3dc669e-3a4b-4ecd-c6b6-ffecba2e3c10",
        "colab": {
          "base_uri": "https://localhost:8080/"
        }
      },
      "source": [
        "cross_val_score(sgd_clf, X_train, y_train, cv=3, scoring=\"accuracy\")"
      ],
      "execution_count": 45,
      "outputs": [
        {
          "output_type": "execute_result",
          "data": {
            "text/plain": [
              "array([0.87365, 0.85835, 0.8689 ])"
            ]
          },
          "metadata": {
            "tags": []
          },
          "execution_count": 45
        }
      ]
    },
    {
      "cell_type": "markdown",
      "metadata": {
        "id": "H2s8ssTZd5yU"
      },
      "source": [
        "This is not such a bad score, but you can still do much better. Simply scaling the inputs increases accuracy above 89%:"
      ]
    },
    {
      "cell_type": "code",
      "metadata": {
        "id": "yPrSalMfeAMR",
        "outputId": "5eb831ae-fc03-4bf3-9b8e-b02acc1148b8",
        "colab": {
          "base_uri": "https://localhost:8080/"
        }
      },
      "source": [
        "from sklearn.preprocessing import StandardScaler\n",
        "\n",
        "scaler = StandardScaler()\n",
        "X_train_scaled = scaler.fit_transform(X_train.astype(np.float64))\n",
        "cross_val_score(sgd_clf, X_train_scaled, y_train, cv=3, scoring=\"accuracy\")"
      ],
      "execution_count": 46,
      "outputs": [
        {
          "output_type": "execute_result",
          "data": {
            "text/plain": [
              "array([0.8983, 0.891 , 0.9018])"
            ]
          },
          "metadata": {
            "tags": []
          },
          "execution_count": 46
        }
      ]
    },
    {
      "cell_type": "markdown",
      "metadata": {
        "id": "A8wlDxJXeMv5"
      },
      "source": [
        "## Error Analysis\n",
        "\n",
        "we will assume that you have found a promising model and you want to find ways to improve it. One way to do this is to analyze the types of errors it makes.\n",
        "\n",
        "First, look at the confusion matrix. You need to make predictions using the\n",
        "cross_val_predict() function, then call the confusion_matrix() function, just like you did earlier:"
      ]
    },
    {
      "cell_type": "code",
      "metadata": {
        "id": "xmOOovCyhBe4",
        "outputId": "4ad0ffa4-fa90-4cf9-f6e3-b0b1cc592ce8",
        "colab": {
          "base_uri": "https://localhost:8080/"
        }
      },
      "source": [
        "y_train_pred = cross_val_predict(sgd_clf, X_train_scaled, y_train, cv=3)\n",
        "conf_mx = confusion_matrix(y_train, y_train_pred)\n",
        "conf_mx"
      ],
      "execution_count": 47,
      "outputs": [
        {
          "output_type": "execute_result",
          "data": {
            "text/plain": [
              "array([[5577,    0,   22,    5,    8,   43,   36,    6,  225,    1],\n",
              "       [   0, 6400,   37,   24,    4,   44,    4,    7,  212,   10],\n",
              "       [  27,   27, 5220,   92,   73,   27,   67,   36,  378,   11],\n",
              "       [  22,   17,  117, 5227,    2,  203,   27,   40,  403,   73],\n",
              "       [  12,   14,   41,    9, 5182,   12,   34,   27,  347,  164],\n",
              "       [  27,   15,   30,  168,   53, 4444,   75,   14,  535,   60],\n",
              "       [  30,   15,   42,    3,   44,   97, 5552,    3,  131,    1],\n",
              "       [  21,   10,   51,   30,   49,   12,    3, 5684,  195,  210],\n",
              "       [  17,   63,   48,   86,    3,  126,   25,   10, 5429,   44],\n",
              "       [  25,   18,   30,   64,  118,   36,    1,  179,  371, 5107]])"
            ]
          },
          "metadata": {
            "tags": []
          },
          "execution_count": 47
        }
      ]
    },
    {
      "cell_type": "markdown",
      "metadata": {
        "id": "K52Rq7oehQZG"
      },
      "source": [
        "That’s a lot of numbers. It’s often more convenient to look at an image representation of the confusion matrix, using Matplotlib’s matshow() function:"
      ]
    },
    {
      "cell_type": "code",
      "metadata": {
        "id": "LfF5PsAdhSPD",
        "outputId": "7cc888da-11a2-4591-ca0c-7d24e3cc3066",
        "colab": {
          "base_uri": "https://localhost:8080/",
          "height": 275
        }
      },
      "source": [
        "plt.matshow(conf_mx, cmap=plt.cm.gray)\n",
        "plt.show()"
      ],
      "execution_count": 48,
      "outputs": [
        {
          "output_type": "display_data",
          "data": {
            "image/png": "[encoded data removed]",
            "text/plain": [
              "<Figure size 288x288 with 1 Axes>"
            ]
          },
          "metadata": {
            "tags": [],
            "needs_background": "light"
          }
        }
      ]
    },
    {
      "cell_type": "markdown",
      "metadata": {
        "id": "AYLEiwouhYJB"
      },
      "source": [
        "Let’s focus the plot on the errors. First, you need to divide each value in the confusion matrix by the number of images in the corresponding class so that you can compare error rates instead of absolute numbers of errors (which would make abundant classes look unfairly bad):"
      ]
    },
    {
      "cell_type": "code",
      "metadata": {
        "id": "ujAlvb3xhbji"
      },
      "source": [
        "row_sums = conf_mx.sum(axis=1, keepdims=True)\n",
        "norm_conf_mx = conf_mx / row_sums"
      ],
      "execution_count": 49,
      "outputs": []
    },
    {
      "cell_type": "markdown",
      "metadata": {
        "id": "1iZIBw9shfFV"
      },
      "source": [
        "Fill the diagonal with zeros to keep only the errors, and plot the result:"
      ]
    },
    {
      "cell_type": "code",
      "metadata": {
        "id": "xtwlFjN_heTK",
        "outputId": "2076ea39-07f6-4f32-f5a7-3319e29d6bdf",
        "colab": {
          "base_uri": "https://localhost:8080/",
          "height": 275
        }
      },
      "source": [
        "np.fill_diagonal(norm_conf_mx, 0)\n",
        "plt.matshow(norm_conf_mx, cmap=plt.cm.gray)\n",
        "plt.show()"
      ],
      "execution_count": 50,
      "outputs": [
        {
          "output_type": "display_data",
          "data": {
            "image/png": "[encoded data removed]",
            "text/plain": [
              "<Figure size 288x288 with 1 Axes>"
            ]
          },
          "metadata": {
            "tags": [],
            "needs_background": "light"
          }
        }
      ]
    },
    {
      "cell_type": "markdown",
      "metadata": {
        "id": "rKMjEbneZcN7"
      },
      "source": [
        "## Multilabel Classification\n",
        "\n",
        "A classification system that outputs multiple binary tags is\n",
        "called a multilabel classification system. let’s look at a simpler example, just for illustration purposes:"
      ]
    },
    {
      "cell_type": "code",
      "metadata": {
        "id": "pw1XYKPEkZRl",
        "outputId": "28c0eb94-a96c-4668-c4d9-04c4d7b8d16d",
        "colab": {
          "base_uri": "https://localhost:8080/"
        }
      },
      "source": [
        "from sklearn.neighbors import KNeighborsClassifier\n",
        "\n",
        "y_train_large = (y_train >= 7)\n",
        "y_train_odd = (y_train % 2 == 1)\n",
        "y_multilabel = np.c_[y_train_large, y_train_odd]\n",
        "knn_clf = KNeighborsClassifier()\n",
        "knn_clf.fit(X_train, y_multilabel)"
      ],
      "execution_count": 51,
      "outputs": [
        {
          "output_type": "execute_result",
          "data": {
            "text/plain": [
              "KNeighborsClassifier(algorithm='auto', leaf_size=30, metric='minkowski',\n",
              "                     metric_params=None, n_jobs=None, n_neighbors=5, p=2,\n",
              "                     weights='uniform')"
            ]
          },
          "metadata": {
            "tags": []
          },
          "execution_count": 51
        }
      ]
    },
    {
      "cell_type": "code",
      "metadata": {
        "id": "alaN0TB6aZ-P",
        "outputId": "a7190546-e3ec-47f1-de58-2d55a025c003",
        "colab": {
          "base_uri": "https://localhost:8080/"
        }
      },
      "source": [
        "knn_clf.predict([some_digit])"
      ],
      "execution_count": 52,
      "outputs": [
        {
          "output_type": "execute_result",
          "data": {
            "text/plain": [
              "array([[False,  True]])"
            ]
          },
          "metadata": {
            "tags": []
          },
          "execution_count": 52
        }
      ]
    },
    {
      "cell_type": "code",
      "metadata": {
        "id": "pHClmflycwd2",
        "outputId": "dfb97e1f-bf53-4d73-a43a-63faf035b185",
        "colab": {
          "base_uri": "https://localhost:8080/"
        }
      },
      "source": [
        "y_train_knn_pred = cross_val_predict(knn_clf, X_train, y_multilabel, cv=3)\n",
        "f1_score(y_multilabel, y_train_knn_pred, average=\"macro\")"
      ],
      "execution_count": 53,
      "outputs": [
        {
          "output_type": "execute_result",
          "data": {
            "text/plain": [
              "0.976410265560605"
            ]
          },
          "metadata": {
            "tags": []
          },
          "execution_count": 53
        }
      ]
    },
    {
      "cell_type": "markdown",
      "metadata": {
        "id": "CiBXvJZQbbIM"
      },
      "source": [
        "## Multioutput Classification\n",
        "\n",
        "The last type of classification task we are going to discuss here is called multioutput-multiclass classification (or simply multioutput classification). It is simply a generalization of multilabel classification where each label can be multiclass (i.e., it can have more than two possible values)."
      ]
    },
    {
      "cell_type": "markdown",
      "metadata": {
        "id": "_ASkmL6ucRhj"
      },
      "source": [
        "Let’s start by creating the training and test sets by taking the MNIST images and adding noise to their pixel intensities with NumPy’s randint() function. The target images will be the original images:"
      ]
    },
    {
      "cell_type": "code",
      "metadata": {
        "id": "VyRuXRIiamra"
      },
      "source": [
        "noise = np.random.randint(0, 100, (len(X_train), 784))\n",
        "X_train_mod = X_train + noise\n",
        "noise = np.random.randint(0, 100, (len(X_test), 784))\n",
        "X_test_mod = X_test + noise\n",
        "y_train_mod = X_train\n",
        "y_test_mod = X_test"
      ],
      "execution_count": 54,
      "outputs": []
    },
    {
      "cell_type": "code",
      "metadata": {
        "id": "swdPSAMYakWu"
      },
      "source": [
        "def plot_digit(data):\n",
        "    image = data.reshape(28, 28)\n",
        "    plt.imshow(image, cmap = mpl.cm.binary, interpolation=\"nearest\")\n",
        "    plt.axis(\"off\")"
      ],
      "execution_count": 57,
      "outputs": []
    },
    {
      "cell_type": "code",
      "metadata": {
        "id": "_fE5ngbTaTIb",
        "outputId": "82143901-c351-4692-e6c4-215218579087",
        "colab": {
          "base_uri": "https://localhost:8080/",
          "height": 183
        }
      },
      "source": [
        "some_index = 0\n",
        "plt.subplot(121); plot_digit(X_test_mod[some_index])\n",
        "plt.subplot(122); plot_digit(y_test_mod[some_index])\n",
        "plt.show()"
      ],
      "execution_count": 59,
      "outputs": [
        {
          "output_type": "display_data",
          "data": {
            "image/png": "[encoded data removed]",
            "text/plain": [
              "<Figure size 432x288 with 2 Axes>"
            ]
          },
          "metadata": {
            "tags": [],
            "needs_background": "light"
          }
        }
      ]
    },
    {
      "cell_type": "code",
      "metadata": {
        "id": "HecXl4KAcb2d",
        "outputId": "957dec4e-bb01-4911-ba48-f1c99e8a4d18",
        "colab": {
          "base_uri": "https://localhost:8080/",
          "height": 248
        }
      },
      "source": [
        "knn_clf.fit(X_train_mod, y_train_mod)\n",
        "clean_digit = knn_clf.predict([X_test_mod[some_index]])\n",
        "plot_digit(clean_digit)"
      ],
      "execution_count": 60,
      "outputs": [
        {
          "output_type": "display_data",
          "data": {
            "image/png": "[encoded data removed]",
            "text/plain": [
              "<Figure size 432x288 with 1 Axes>"
            ]
          },
          "metadata": {
            "tags": [],
            "needs_background": "light"
          }
        }
      ]
    }
  ]
}